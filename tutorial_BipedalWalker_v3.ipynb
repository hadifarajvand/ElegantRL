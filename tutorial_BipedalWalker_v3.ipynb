{
    "cells": [
        {
            "cell_type": "markdown",
            "metadata": {
                "colab_type": "text",
                "id": "view-in-github"
            },
            "source": [
                "<a href=\"https://colab.research.google.com/github/AI4Finance-Foundation/ElegantRL/blob/master/tutorial_BipedalWalker_v3.ipynb\" target=\"_parent\"><img src=\"https://colab.research.google.com/assets/colab-badge.svg\" alt=\"Open In Colab\"/></a>"
            ]
        },
        {
            "cell_type": "markdown",
            "metadata": {
                "id": "c1gUG3OCJ5GS"
            },
            "source": [
                "# **BipedalWalker-v3 Example in ElegantRL**\n",
                "\n",
                "\n",
                "\n",
                "\n"
            ]
        },
        {
            "cell_type": "markdown",
            "metadata": {
                "id": "FGXyBBvL0dR2"
            },
            "source": [
                "# **Task Description**\n",
                "\n",
                "[BipedalWalker-v3](https://gym.openai.com/envs/BipedalWalker-v2/) is a robotic task in OpenAI Gym since it performs one of the most fundamental skills: moving. In this task, our goal is to get a 2D bipedal walker to walk through rough terrain. BipedalWalker is a difficult task in continuous action space, and there are only a few RL implementations can reach the target reward."
            ]
        },
        {
            "cell_type": "markdown",
            "metadata": {
                "id": "DbamGVHC3AeW"
            },
            "source": [
                "# **Part 1: Install ElegantRL**"
            ]
        },
        {
            "cell_type": "code",
            "execution_count": 3,
            "metadata": {
                "colab": {
                    "base_uri": "https://localhost:8080/"
                },
                "id": "U35bhkUqOqbS",
                "outputId": "79ace170-9a20-46cd-db96-957fd42a472f"
            },
            "outputs": [
                {
                    "name": "stdout",
                    "output_type": "stream",
                    "text": [
                        "Collecting git+https://github.com/AI4Finance-LLC/ElegantRL.git\n",
                        "  Cloning https://github.com/AI4Finance-LLC/ElegantRL.git to /tmp/pip-req-build-pbndhh9k\n",
                        "  Running command git clone --filter=blob:none --quiet https://github.com/AI4Finance-LLC/ElegantRL.git /tmp/pip-req-build-pbndhh9k\n",
                        "  Resolved https://github.com/AI4Finance-LLC/ElegantRL.git to commit 8ea76afc3e7f1564ae9f0e69e70254116d575fe9\n",
                        "  Installing build dependencies ... \u001b[?25ldone\n",
                        "\u001b[?25h  Getting requirements to build wheel ... \u001b[?25ldone\n",
                        "\u001b[?25h  Preparing metadata (pyproject.toml) ... \u001b[?25ldone\n",
                        "\u001b[?25hRequirement already satisfied: th in ./.venv/lib/python3.10/site-packages (from ElegantRL==0.3.10) (0.4.1)\n",
                        "Requirement already satisfied: numpy in ./.venv/lib/python3.10/site-packages (from ElegantRL==0.3.10) (2.2.6)\n",
                        "Requirement already satisfied: gymnasium in ./.venv/lib/python3.10/site-packages (from ElegantRL==0.3.10) (1.1.1)\n",
                        "Requirement already satisfied: matplotlib in ./.venv/lib/python3.10/site-packages (from ElegantRL==0.3.10) (3.10.3)\n",
                        "Requirement already satisfied: cloudpickle>=1.2.0 in ./.venv/lib/python3.10/site-packages (from gymnasium->ElegantRL==0.3.10) (3.1.1)\n",
                        "Requirement already satisfied: typing-extensions>=4.3.0 in ./.venv/lib/python3.10/site-packages (from gymnasium->ElegantRL==0.3.10) (4.14.0)\n",
                        "Requirement already satisfied: farama-notifications>=0.0.1 in ./.venv/lib/python3.10/site-packages (from gymnasium->ElegantRL==0.3.10) (0.0.4)\n",
                        "Requirement already satisfied: contourpy>=1.0.1 in ./.venv/lib/python3.10/site-packages (from matplotlib->ElegantRL==0.3.10) (1.3.2)\n",
                        "Requirement already satisfied: cycler>=0.10 in ./.venv/lib/python3.10/site-packages (from matplotlib->ElegantRL==0.3.10) (0.12.1)\n",
                        "Requirement already satisfied: fonttools>=4.22.0 in ./.venv/lib/python3.10/site-packages (from matplotlib->ElegantRL==0.3.10) (4.58.4)\n",
                        "Requirement already satisfied: kiwisolver>=1.3.1 in ./.venv/lib/python3.10/site-packages (from matplotlib->ElegantRL==0.3.10) (1.4.8)\n",
                        "Requirement already satisfied: packaging>=20.0 in ./.venv/lib/python3.10/site-packages (from matplotlib->ElegantRL==0.3.10) (25.0)\n",
                        "Requirement already satisfied: pillow>=8 in ./.venv/lib/python3.10/site-packages (from matplotlib->ElegantRL==0.3.10) (11.2.1)\n",
                        "Requirement already satisfied: pyparsing>=2.3.1 in ./.venv/lib/python3.10/site-packages (from matplotlib->ElegantRL==0.3.10) (3.2.3)\n",
                        "Requirement already satisfied: python-dateutil>=2.7 in ./.venv/lib/python3.10/site-packages (from matplotlib->ElegantRL==0.3.10) (2.9.0.post0)\n",
                        "Requirement already satisfied: six>=1.5 in ./.venv/lib/python3.10/site-packages (from python-dateutil>=2.7->matplotlib->ElegantRL==0.3.10) (1.17.0)\n",
                        "Requirement already satisfied: niltype<2.0,>=0.3 in ./.venv/lib/python3.10/site-packages (from th->ElegantRL==0.3.10) (1.0.2)\n",
                        "Collecting torch (from -r requirements.txt (line 2))\n",
                        "  Using cached torch-2.7.1-cp310-cp310-manylinux_2_28_x86_64.whl.metadata (29 kB)\n",
                        "Requirement already satisfied: numpy in ./.venv/lib/python3.10/site-packages (from -r requirements.txt (line 5)) (2.2.6)\n",
                        "Requirement already satisfied: matplotlib in ./.venv/lib/python3.10/site-packages (from -r requirements.txt (line 8)) (3.10.3)\n",
                        "Requirement already satisfied: gymnasium in ./.venv/lib/python3.10/site-packages (from -r requirements.txt (line 9)) (1.1.1)\n",
                        "Collecting wandb (from -r requirements.txt (line 12))\n",
                        "  Downloading wandb-0.20.1-py3-none-manylinux_2_17_x86_64.manylinux2014_x86_64.whl.metadata (10 kB)\n",
                        "Collecting filelock (from torch->-r requirements.txt (line 2))\n",
                        "  Using cached filelock-3.18.0-py3-none-any.whl.metadata (2.9 kB)\n",
                        "Requirement already satisfied: typing-extensions>=4.10.0 in ./.venv/lib/python3.10/site-packages (from torch->-r requirements.txt (line 2)) (4.14.0)\n",
                        "Collecting sympy>=1.13.3 (from torch->-r requirements.txt (line 2))\n",
                        "  Using cached sympy-1.14.0-py3-none-any.whl.metadata (12 kB)\n",
                        "Collecting networkx (from torch->-r requirements.txt (line 2))\n",
                        "  Using cached networkx-3.4.2-py3-none-any.whl.metadata (6.3 kB)\n",
                        "Collecting jinja2 (from torch->-r requirements.txt (line 2))\n",
                        "  Using cached jinja2-3.1.6-py3-none-any.whl.metadata (2.9 kB)\n",
                        "Collecting fsspec (from torch->-r requirements.txt (line 2))\n",
                        "  Using cached fsspec-2025.5.1-py3-none-any.whl.metadata (11 kB)\n",
                        "Collecting nvidia-cuda-nvrtc-cu12==12.6.77 (from torch->-r requirements.txt (line 2))\n",
                        "  Using cached nvidia_cuda_nvrtc_cu12-12.6.77-py3-none-manylinux2014_x86_64.whl.metadata (1.5 kB)\n",
                        "Collecting nvidia-cuda-runtime-cu12==12.6.77 (from torch->-r requirements.txt (line 2))\n",
                        "  Using cached nvidia_cuda_runtime_cu12-12.6.77-py3-none-manylinux2014_x86_64.manylinux_2_17_x86_64.whl.metadata (1.5 kB)\n",
                        "Collecting nvidia-cuda-cupti-cu12==12.6.80 (from torch->-r requirements.txt (line 2))\n",
                        "  Using cached nvidia_cuda_cupti_cu12-12.6.80-py3-none-manylinux2014_x86_64.manylinux_2_17_x86_64.whl.metadata (1.6 kB)\n",
                        "Collecting nvidia-cudnn-cu12==9.5.1.17 (from torch->-r requirements.txt (line 2))\n",
                        "  Using cached nvidia_cudnn_cu12-9.5.1.17-py3-none-manylinux_2_28_x86_64.whl.metadata (1.6 kB)\n",
                        "Collecting nvidia-cublas-cu12==12.6.4.1 (from torch->-r requirements.txt (line 2))\n",
                        "  Using cached nvidia_cublas_cu12-12.6.4.1-py3-none-manylinux2014_x86_64.manylinux_2_17_x86_64.whl.metadata (1.5 kB)\n",
                        "Collecting nvidia-cufft-cu12==11.3.0.4 (from torch->-r requirements.txt (line 2))\n",
                        "  Using cached nvidia_cufft_cu12-11.3.0.4-py3-none-manylinux2014_x86_64.manylinux_2_17_x86_64.whl.metadata (1.5 kB)\n",
                        "Collecting nvidia-curand-cu12==10.3.7.77 (from torch->-r requirements.txt (line 2))\n",
                        "  Using cached nvidia_curand_cu12-10.3.7.77-py3-none-manylinux2014_x86_64.manylinux_2_17_x86_64.whl.metadata (1.5 kB)\n",
                        "Collecting nvidia-cusolver-cu12==11.7.1.2 (from torch->-r requirements.txt (line 2))\n",
                        "  Using cached nvidia_cusolver_cu12-11.7.1.2-py3-none-manylinux2014_x86_64.manylinux_2_17_x86_64.whl.metadata (1.6 kB)\n",
                        "Collecting nvidia-cusparse-cu12==12.5.4.2 (from torch->-r requirements.txt (line 2))\n",
                        "  Using cached nvidia_cusparse_cu12-12.5.4.2-py3-none-manylinux2014_x86_64.manylinux_2_17_x86_64.whl.metadata (1.6 kB)\n",
                        "Collecting nvidia-cusparselt-cu12==0.6.3 (from torch->-r requirements.txt (line 2))\n",
                        "  Using cached nvidia_cusparselt_cu12-0.6.3-py3-none-manylinux2014_x86_64.whl.metadata (6.8 kB)\n",
                        "Collecting nvidia-nccl-cu12==2.26.2 (from torch->-r requirements.txt (line 2))\n",
                        "  Using cached nvidia_nccl_cu12-2.26.2-py3-none-manylinux2014_x86_64.manylinux_2_17_x86_64.whl.metadata (2.0 kB)\n",
                        "Collecting nvidia-nvtx-cu12==12.6.77 (from torch->-r requirements.txt (line 2))\n",
                        "  Using cached nvidia_nvtx_cu12-12.6.77-py3-none-manylinux2014_x86_64.manylinux_2_17_x86_64.whl.metadata (1.6 kB)\n",
                        "Collecting nvidia-nvjitlink-cu12==12.6.85 (from torch->-r requirements.txt (line 2))\n",
                        "  Using cached nvidia_nvjitlink_cu12-12.6.85-py3-none-manylinux2010_x86_64.manylinux_2_12_x86_64.whl.metadata (1.5 kB)\n",
                        "Collecting nvidia-cufile-cu12==1.11.1.6 (from torch->-r requirements.txt (line 2))\n",
                        "  Using cached nvidia_cufile_cu12-1.11.1.6-py3-none-manylinux2014_x86_64.manylinux_2_17_x86_64.whl.metadata (1.5 kB)\n",
                        "Collecting triton==3.3.1 (from torch->-r requirements.txt (line 2))\n",
                        "  Using cached triton-3.3.1-cp310-cp310-manylinux_2_27_x86_64.manylinux_2_28_x86_64.whl.metadata (1.5 kB)\n",
                        "Requirement already satisfied: setuptools>=40.8.0 in ./.venv/lib/python3.10/site-packages (from triton==3.3.1->torch->-r requirements.txt (line 2)) (59.6.0)\n",
                        "Requirement already satisfied: contourpy>=1.0.1 in ./.venv/lib/python3.10/site-packages (from matplotlib->-r requirements.txt (line 8)) (1.3.2)\n",
                        "Requirement already satisfied: cycler>=0.10 in ./.venv/lib/python3.10/site-packages (from matplotlib->-r requirements.txt (line 8)) (0.12.1)\n",
                        "Requirement already satisfied: fonttools>=4.22.0 in ./.venv/lib/python3.10/site-packages (from matplotlib->-r requirements.txt (line 8)) (4.58.4)\n",
                        "Requirement already satisfied: kiwisolver>=1.3.1 in ./.venv/lib/python3.10/site-packages (from matplotlib->-r requirements.txt (line 8)) (1.4.8)\n",
                        "Requirement already satisfied: packaging>=20.0 in ./.venv/lib/python3.10/site-packages (from matplotlib->-r requirements.txt (line 8)) (25.0)\n",
                        "Requirement already satisfied: pillow>=8 in ./.venv/lib/python3.10/site-packages (from matplotlib->-r requirements.txt (line 8)) (11.2.1)\n",
                        "Requirement already satisfied: pyparsing>=2.3.1 in ./.venv/lib/python3.10/site-packages (from matplotlib->-r requirements.txt (line 8)) (3.2.3)\n",
                        "Requirement already satisfied: python-dateutil>=2.7 in ./.venv/lib/python3.10/site-packages (from matplotlib->-r requirements.txt (line 8)) (2.9.0.post0)\n",
                        "Requirement already satisfied: cloudpickle>=1.2.0 in ./.venv/lib/python3.10/site-packages (from gymnasium->-r requirements.txt (line 9)) (3.1.1)\n",
                        "Requirement already satisfied: farama-notifications>=0.0.1 in ./.venv/lib/python3.10/site-packages (from gymnasium->-r requirements.txt (line 9)) (0.0.4)\n",
                        "Collecting click!=8.0.0,>=7.1 (from wandb->-r requirements.txt (line 12))\n",
                        "  Using cached click-8.2.1-py3-none-any.whl.metadata (2.5 kB)\n",
                        "Collecting gitpython!=3.1.29,>=1.0.0 (from wandb->-r requirements.txt (line 12))\n",
                        "  Downloading GitPython-3.1.44-py3-none-any.whl.metadata (13 kB)\n",
                        "Requirement already satisfied: platformdirs in ./.venv/lib/python3.10/site-packages (from wandb->-r requirements.txt (line 12)) (4.3.8)\n",
                        "Collecting protobuf!=4.21.0,!=5.28.0,<7,>=3.19.0 (from wandb->-r requirements.txt (line 12))\n",
                        "  Using cached protobuf-6.31.1-cp39-abi3-manylinux2014_x86_64.whl.metadata (593 bytes)\n",
                        "Requirement already satisfied: psutil>=5.0.0 in ./.venv/lib/python3.10/site-packages (from wandb->-r requirements.txt (line 12)) (7.0.0)\n",
                        "Collecting pydantic<3 (from wandb->-r requirements.txt (line 12))\n",
                        "  Using cached pydantic-2.11.7-py3-none-any.whl.metadata (67 kB)\n",
                        "Collecting pyyaml (from wandb->-r requirements.txt (line 12))\n",
                        "  Using cached PyYAML-6.0.2-cp310-cp310-manylinux_2_17_x86_64.manylinux2014_x86_64.whl.metadata (2.1 kB)\n",
                        "Collecting requests<3,>=2.0.0 (from wandb->-r requirements.txt (line 12))\n",
                        "  Using cached requests-2.32.4-py3-none-any.whl.metadata (4.9 kB)\n",
                        "Collecting sentry-sdk>=2.0.0 (from wandb->-r requirements.txt (line 12))\n",
                        "  Downloading sentry_sdk-2.31.0-py2.py3-none-any.whl.metadata (10 kB)\n",
                        "Collecting setproctitle (from wandb->-r requirements.txt (line 12))\n",
                        "  Downloading setproctitle-1.3.6-cp310-cp310-manylinux_2_5_x86_64.manylinux1_x86_64.manylinux_2_17_x86_64.manylinux2014_x86_64.whl.metadata (10 kB)\n",
                        "Collecting annotated-types>=0.6.0 (from pydantic<3->wandb->-r requirements.txt (line 12))\n",
                        "  Using cached annotated_types-0.7.0-py3-none-any.whl.metadata (15 kB)\n",
                        "Collecting pydantic-core==2.33.2 (from pydantic<3->wandb->-r requirements.txt (line 12))\n",
                        "  Using cached pydantic_core-2.33.2-cp310-cp310-manylinux_2_17_x86_64.manylinux2014_x86_64.whl.metadata (6.8 kB)\n",
                        "Collecting typing-inspection>=0.4.0 (from pydantic<3->wandb->-r requirements.txt (line 12))\n",
                        "  Using cached typing_inspection-0.4.1-py3-none-any.whl.metadata (2.6 kB)\n",
                        "Collecting charset_normalizer<4,>=2 (from requests<3,>=2.0.0->wandb->-r requirements.txt (line 12))\n",
                        "  Using cached charset_normalizer-3.4.2-cp310-cp310-manylinux_2_17_x86_64.manylinux2014_x86_64.whl.metadata (35 kB)\n",
                        "Collecting idna<4,>=2.5 (from requests<3,>=2.0.0->wandb->-r requirements.txt (line 12))\n",
                        "  Using cached idna-3.10-py3-none-any.whl.metadata (10 kB)\n",
                        "Collecting urllib3<3,>=1.21.1 (from requests<3,>=2.0.0->wandb->-r requirements.txt (line 12))\n",
                        "  Using cached urllib3-2.5.0-py3-none-any.whl.metadata (6.5 kB)\n",
                        "Collecting certifi>=2017.4.17 (from requests<3,>=2.0.0->wandb->-r requirements.txt (line 12))\n",
                        "  Using cached certifi-2025.6.15-py3-none-any.whl.metadata (2.4 kB)\n",
                        "Collecting gitdb<5,>=4.0.1 (from gitpython!=3.1.29,>=1.0.0->wandb->-r requirements.txt (line 12))\n",
                        "  Downloading gitdb-4.0.12-py3-none-any.whl.metadata (1.2 kB)\n",
                        "Collecting smmap<6,>=3.0.1 (from gitdb<5,>=4.0.1->gitpython!=3.1.29,>=1.0.0->wandb->-r requirements.txt (line 12))\n",
                        "  Downloading smmap-5.0.2-py3-none-any.whl.metadata (4.3 kB)\n",
                        "Requirement already satisfied: six>=1.5 in ./.venv/lib/python3.10/site-packages (from python-dateutil>=2.7->matplotlib->-r requirements.txt (line 8)) (1.17.0)\n",
                        "Collecting mpmath<1.4,>=1.1.0 (from sympy>=1.13.3->torch->-r requirements.txt (line 2))\n",
                        "  Using cached mpmath-1.3.0-py3-none-any.whl.metadata (8.6 kB)\n",
                        "Collecting MarkupSafe>=2.0 (from jinja2->torch->-r requirements.txt (line 2))\n",
                        "  Using cached MarkupSafe-3.0.2-cp310-cp310-manylinux_2_17_x86_64.manylinux2014_x86_64.whl.metadata (4.0 kB)\n",
                        "Using cached torch-2.7.1-cp310-cp310-manylinux_2_28_x86_64.whl (821.2 MB)\n",
                        "Using cached nvidia_cublas_cu12-12.6.4.1-py3-none-manylinux2014_x86_64.manylinux_2_17_x86_64.whl (393.1 MB)\n",
                        "Using cached nvidia_cuda_cupti_cu12-12.6.80-py3-none-manylinux2014_x86_64.manylinux_2_17_x86_64.whl (8.9 MB)\n",
                        "Using cached nvidia_cuda_nvrtc_cu12-12.6.77-py3-none-manylinux2014_x86_64.whl (23.7 MB)\n",
                        "Using cached nvidia_cuda_runtime_cu12-12.6.77-py3-none-manylinux2014_x86_64.manylinux_2_17_x86_64.whl (897 kB)\n",
                        "Using cached nvidia_cudnn_cu12-9.5.1.17-py3-none-manylinux_2_28_x86_64.whl (571.0 MB)\n",
                        "Using cached nvidia_cufft_cu12-11.3.0.4-py3-none-manylinux2014_x86_64.manylinux_2_17_x86_64.whl (200.2 MB)\n",
                        "Using cached nvidia_cufile_cu12-1.11.1.6-py3-none-manylinux2014_x86_64.manylinux_2_17_x86_64.whl (1.1 MB)\n",
                        "Using cached nvidia_curand_cu12-10.3.7.77-py3-none-manylinux2014_x86_64.manylinux_2_17_x86_64.whl (56.3 MB)\n",
                        "Using cached nvidia_cusolver_cu12-11.7.1.2-py3-none-manylinux2014_x86_64.manylinux_2_17_x86_64.whl (158.2 MB)\n",
                        "Using cached nvidia_cusparse_cu12-12.5.4.2-py3-none-manylinux2014_x86_64.manylinux_2_17_x86_64.whl (216.6 MB)\n",
                        "Using cached nvidia_cusparselt_cu12-0.6.3-py3-none-manylinux2014_x86_64.whl (156.8 MB)\n",
                        "Using cached nvidia_nccl_cu12-2.26.2-py3-none-manylinux2014_x86_64.manylinux_2_17_x86_64.whl (201.3 MB)\n",
                        "Using cached nvidia_nvjitlink_cu12-12.6.85-py3-none-manylinux2010_x86_64.manylinux_2_12_x86_64.whl (19.7 MB)\n",
                        "Using cached nvidia_nvtx_cu12-12.6.77-py3-none-manylinux2014_x86_64.manylinux_2_17_x86_64.whl (89 kB)\n",
                        "Using cached triton-3.3.1-cp310-cp310-manylinux_2_27_x86_64.manylinux_2_28_x86_64.whl (155.6 MB)\n",
                        "Downloading wandb-0.20.1-py3-none-manylinux_2_17_x86_64.manylinux2014_x86_64.whl (23.2 MB)\n",
                        "\u001b[2K   \u001b[91m━━━━━━━━━━━━━━━━━━━━━━━━━━━━━━━━━━━\u001b[0m\u001b[90m╺\u001b[0m\u001b[90m━━━━\u001b[0m \u001b[32m20.4/23.2 MB\u001b[0m \u001b[31m205.3 kB/s\u001b[0m eta \u001b[36m0:00:14\u001b[0m\n",
                        "\u001b[?25h\u001b[33mWARNING: Connection timed out while downloading.\u001b[0m\u001b[33m\n",
                        "\u001b[0m\u001b[1;31merror\u001b[0m: \u001b[1mincomplete-download\u001b[0m\n",
                        "\n",
                        "\u001b[31m×\u001b[0m Download failed because not enough bytes were received (20.4 MB/23.2 MB)\n",
                        "\u001b[31m╰─>\u001b[0m URL: \u001b[4;94mhttps://files.pythonhosted.org/packages/88/c9/41b8bdb493e5eda32b502bc1cc49d539335a92cacaf0ef304d7dae0240aa/wandb-0.20.1-py3-none-manylinux_2_17_x86_64.manylinux2014_x86_64.whl\u001b[0m\n",
                        "\n",
                        "\u001b[1;35mnote\u001b[0m: This is an issue with network connectivity, not pip.\n",
                        "\u001b[1;36mhint\u001b[0m: Consider using --resume-retries to enable download resumption.\n"
                    ]
                }
            ],
            "source": [
                "# install elegantrl library\n",
                "!pip install git+https://github.com/AI4Finance-LLC/ElegantRL.git\n",
                "!pip install -r requirements.txt"
            ]
        },
        {
            "cell_type": "markdown",
            "metadata": {
                "id": "UVdmpnK_3Zcn"
            },
            "source": [
                "# **Part 2: Import Packages**\n",
                "\n",
                "\n",
                "*   **elegantrl**\n",
                "*   **OpenAI Gym**: a toolkit for developing and comparing reinforcement learning algorithms.\n",
                "\n"
            ]
        },
        {
            "cell_type": "code",
            "execution_count": 2,
            "metadata": {
                "id": "AAPdjovQrTpE"
            },
            "outputs": [
                {
                    "ename": "ModuleNotFoundError",
                    "evalue": "No module named 'gym'",
                    "output_type": "error",
                    "traceback": [
                        "\u001b[0;31m---------------------------------------------------------------------------\u001b[0m",
                        "\u001b[0;31mModuleNotFoundError\u001b[0m                       Traceback (most recent call last)",
                        "Cell \u001b[0;32mIn[2], line 1\u001b[0m\n\u001b[0;32m----> 1\u001b[0m \u001b[38;5;28;01mimport\u001b[39;00m\u001b[38;5;250m \u001b[39m\u001b[38;5;21;01mgym\u001b[39;00m\n\u001b[1;32m      2\u001b[0m \u001b[38;5;28;01mfrom\u001b[39;00m\u001b[38;5;250m \u001b[39m\u001b[38;5;21;01melegantrl\u001b[39;00m\u001b[38;5;21;01m.\u001b[39;00m\u001b[38;5;21;01magents\u001b[39;00m\u001b[38;5;250m \u001b[39m\u001b[38;5;28;01mimport\u001b[39;00m AgentPPO\n\u001b[1;32m      3\u001b[0m \u001b[38;5;28;01mfrom\u001b[39;00m\u001b[38;5;250m \u001b[39m\u001b[38;5;21;01melegantrl\u001b[39;00m\u001b[38;5;21;01m.\u001b[39;00m\u001b[38;5;21;01mtrain\u001b[39;00m\u001b[38;5;21;01m.\u001b[39;00m\u001b[38;5;21;01mconfig\u001b[39;00m\u001b[38;5;250m \u001b[39m\u001b[38;5;28;01mimport\u001b[39;00m get_gym_env_args, Config\n",
                        "\u001b[0;31mModuleNotFoundError\u001b[0m: No module named 'gym'"
                    ]
                }
            ],
            "source": [
                "import gym\n",
                "from elegantrl.agents import AgentPPO\n",
                "from elegantrl.train.config import get_gym_env_args, Config\n",
                "from elegantrl.train.run import *\n",
                "\n",
                "gym.logger.set_level(40) # Block warning"
            ]
        },
        {
            "cell_type": "markdown",
            "metadata": {
                "id": "z2Ik5cDoyPGU"
            },
            "source": [
                "# **Part 3: Get environment information**"
            ]
        },
        {
            "cell_type": "code",
            "execution_count": 2,
            "metadata": {
                "colab": {
                    "base_uri": "https://localhost:8080/"
                },
                "id": "wwkZXiHtyV6f",
                "outputId": "880d25f5-d1f0-4cd2-8f78-bb5409330101"
            },
            "outputs": [
                {
                    "data": {
                        "text/plain": [
                            "{'env_name': 'BipedalWalker-v3',\n",
                            " 'num_envs': 1,\n",
                            " 'max_step': 1600,\n",
                            " 'state_dim': 24,\n",
                            " 'action_dim': 4,\n",
                            " 'if_discrete': False}"
                        ]
                    },
                    "execution_count": 2,
                    "metadata": {},
                    "output_type": "execute_result"
                }
            ],
            "source": [
                "get_gym_env_args(gym.make(\"BipedalWalker-v3\"), if_print=False)"
            ]
        },
        {
            "cell_type": "markdown",
            "metadata": {
                "id": "3n8zcgcn14uq"
            },
            "source": [
                "# **Part 4: Specify Agent and Environment**\n",
                "\n",
                "*   **agent**: chooses a agent (DRL algorithm) from a set of agents in the [directory](https://github.com/AI4Finance-Foundation/ElegantRL/tree/master/elegantrl/agents).\n",
                "*   **env_func**: the function to create an environment, in this case, we use gym.make to create BipedalWalker-v3.\n",
                "*   **env_args**: the environment information.\n"
            ]
        },
        {
            "cell_type": "code",
            "execution_count": 8,
            "metadata": {
                "id": "E03f6cTeajK4"
            },
            "outputs": [],
            "source": [
                "env_func = gym.make\n",
                "env_args = {\n",
                "    \"env_num\": 1,\n",
                "    \"env_name\": \"BipedalWalker-v3\",\n",
                "    \"max_step\": 1600,\n",
                "    \"state_dim\": 24,\n",
                "    \"action_dim\": 4,\n",
                "    \"if_discrete\": False,\n",
                "    \"target_return\": 300,\n",
                "    \"id\": \"BipedalWalker-v3\",\n",
                "}\n",
                "# env = build_env(env_class=env_func, env_args=env_args)\n",
                "args = Config(AgentPPO, env_class=env_func, env_args=env_args)"
            ]
        },
        {
            "cell_type": "markdown",
            "metadata": {
                "id": "rcFcUkwfzHLE"
            },
            "source": [
                "# **Part 4: Specify hyper-parameters**\n",
                "A list of hyper-parameters is available [here](https://elegantrl.readthedocs.io/en/latest/api/config.html)."
            ]
        },
        {
            "cell_type": "code",
            "execution_count": 9,
            "metadata": {
                "id": "9WCAcmIfzGyE"
            },
            "outputs": [],
            "source": [
                "args.target_step = args.max_step * 4\n",
                "args.gamma = 0.98\n",
                "args.eval_times = 2**2\n",
                "args.repeat_times = 8"
            ]
        },
        {
            "cell_type": "markdown",
            "metadata": {
                "id": "z1j5kLHF2dhJ"
            },
            "source": [
                "# **Part 5: Train and Evaluate the Agent**\n",
                "\n",
                "\n",
                "\n",
                "\n"
            ]
        },
        {
            "cell_type": "code",
            "execution_count": 10,
            "metadata": {
                "colab": {
                    "base_uri": "https://localhost:8080/"
                },
                "id": "KGOPSD6da23k",
                "outputId": "2a8ed03b-b306-45f8-c530-adf72438c5bd"
            },
            "outputs": [
                {
                    "name": "stdout",
                    "output_type": "stream",
                    "text": [
                        "| Arguments Remove cwd: ./BipedalWalker-v3_PPO_0\n",
                        "| Evaluator:\n",
                        "| `step`: Number of samples, or total training steps, or running times of `env.step()`.\n",
                        "| `time`: Time spent from the start of training to this moment.\n",
                        "| `avgR`: Average value of cumulative rewards, which is the sum of rewards in an episode.\n",
                        "| `stdR`: Standard dev of cumulative rewards, which is the sum of rewards in an episode.\n",
                        "| `avgS`: Average of steps in an episode.\n",
                        "| `objC`: Objective of Critic network. Or call it loss function of critic network.\n",
                        "| `objA`: Objective of Actor network. It is the average Q value of the critic network.\n",
                        "################################################################################\n",
                        "ID     Step    Time |    avgR   stdR   avgS  stdS |    expR   objC   objA   etc.\n"
                    ]
                },
                {
                    "name": "stderr",
                    "output_type": "stream",
                    "text": [
                        "/home/adhi/ElegantRL/.env-erl/lib/python3.10/site-packages/gym/utils/passive_env_checker.py:241: DeprecationWarning: `np.bool8` is a deprecated alias for `np.bool_`.  (Deprecated NumPy 1.24)\n",
                        "  if not isinstance(terminated, (bool, np.bool8)):\n"
                    ]
                },
                {
                    "name": "stdout",
                    "output_type": "stream",
                    "text": [
                        "0  2.05e+03       4 | -105.90    6.8    160     5 |   -5.64   1.22   0.06  -0.00\n",
                        "0  2.25e+04      40 | -101.19    0.3    156    32 |   -5.63   0.91   0.06  -0.00\n",
                        "0  4.30e+04      77 | -105.62    0.2    142     5 |   -5.65   1.96   0.06  -0.00\n",
                        "0  6.35e+04     116 | -106.94    0.1     96     2 |   -5.63   0.06   0.07  -0.00\n",
                        "0  8.40e+04     155 |  -76.43    0.8   1600     0 |   -5.69   0.08   0.05  -0.00\n"
                    ]
                },
                {
                    "name": "stdout",
                    "output_type": "stream",
                    "text": [
                        "0  1.04e+05     199 |  -72.13    0.1   1600     0 |   -5.62   0.07   0.05  -0.01\n"
                    ]
                }
            ],
            "source": [
                "train_agent(args)"
            ]
        },
        {
            "cell_type": "markdown",
            "metadata": {
                "id": "JPXOxLSqh5cP"
            },
            "source": [
                "Understanding the above results::\n",
                "*   **Step**: the total training steps.\n",
                "*  **MaxR**: the maximum reward.\n",
                "*   **avgR**: the average of the rewards.\n",
                "*   **stdR**: the standard deviation of the rewards.\n",
                "*   **objA**: the objective function value of Actor Network (Policy Network).\n",
                "*   **objC**: the objective function value (Q-value)  of Critic Network (Value Network)."
            ]
        }
    ],
    "metadata": {
        "accelerator": "GPU",
        "colab": {
            "collapsed_sections": [],
            "include_colab_link": true,
            "name": "tutorial_BipedalWalker-v3.ipynb",
            "provenance": []
        },
        "kernelspec": {
            "display_name": ".venv",
            "language": "python",
            "name": "python3"
        },
        "language_info": {
            "codemirror_mode": {
                "name": "ipython",
                "version": 3
            },
            "file_extension": ".py",
            "mimetype": "text/x-python",
            "name": "python",
            "nbconvert_exporter": "python",
            "pygments_lexer": "ipython3",
            "version": "3.10.12"
        }
    },
    "nbformat": 4,
    "nbformat_minor": 0
}
